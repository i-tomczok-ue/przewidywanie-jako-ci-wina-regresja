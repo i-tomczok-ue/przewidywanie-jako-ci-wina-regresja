{
 "cells": [
  {
   "cell_type": "markdown",
   "id": "ab8266b2-893f-4370-aa50-525cd3d99328",
   "metadata": {},
   "source": [
    "# Przewidywanie jakości wina - model regresji"
   ]
  },
  {
   "cell_type": "markdown",
   "id": "381119b2-d07e-4ccd-bea2-15e355fa5a01",
   "metadata": {},
   "source": [
    "## Opis problemu"
   ]
  },
  {
   "cell_type": "markdown",
   "id": "17d2e853-0a34-45b8-919e-1f0f109b3a0c",
   "metadata": {},
   "source": [
    "Pozyskano dwa zbiory danych w postaci pliku csv (dla wina czerwonego i białego) ze strony:\n",
    "\n",
    "https://archive.ics.uci.edu/dataset/186/wine+quality.\n",
    "\n",
    "Zbiór danych posiada 11 atrybutów warunkowych oraz \n",
    "* 1599 przypadków w zbiorze wina czerwonego,\n",
    "* 4898 przypadków w zbiorze wina białego.\n",
    "\n",
    "Ostatnia kolumna reprezentuje cechę decyzyjną (ocenę jakości). Dane nie są zbalansowane (jest dużo więcej rekordów win o normalnej jakości w porównaniu do win wyśmienitych i słabych).\n",
    "\n",
    "Celem jest znalezienie modelu regresji o najwyższej jakości i dokładności spośród rozważanych, który przewidywałby jakość wina w zalezności od zadanych parametrów.\n",
    "\n",
    "Rozważone zostaną dwa warianty podejścia do zadania:\n",
    "* w pierwszym modele trenowane będą osobno dla wina czerwonego i białego\n",
    "* w wariancie 2 oba zbiory danych zostaną połączone, kolor wina będzie traktowany jako kolejny atrybut."
   ]
  },
  {
   "cell_type": "markdown",
   "id": "edac7067-1ddb-403b-964e-f0ced082e6f2",
   "metadata": {},
   "source": [
    "## Spis treści"
   ]
  },
  {
   "cell_type": "markdown",
   "id": "60766768-37c0-45de-bd78-0699415bbe6b",
   "metadata": {},
   "source": [
    "* [Import bibliotek](#0)\n",
    "* [Dane](#1)\n",
    "    * [Wczytanie](#1.1)\n",
    "    * [Przygotowanie](#1.2)\n",
    "        * [Wariant 1](#1.2.1)\n",
    "        * [Wariant 2](#1.2.2)\n",
    "* [Uczenie maszynowe - model regresji](#2)\n",
    "    * [Wariant 1](#2.1)\n",
    "        * [Wino czerwone](#2.1.1)\n",
    "        * [Wino białe](#2.1.2)\n",
    "    * [Wariant 2](#2.2)\n",
    "* [Wnioski](#3)"
   ]
  },
  {
   "cell_type": "markdown",
   "id": "af6da219-a215-40cf-8798-17bc265ff337",
   "metadata": {},
   "source": [
    "## <a name='0'></a>Import bibliotek"
   ]
  },
  {
   "cell_type": "code",
   "execution_count": 1,
   "id": "a61eff66-8b25-4f6c-a4e6-93dfe4aa7877",
   "metadata": {
    "tags": []
   },
   "outputs": [],
   "source": [
    "# podstawowe\n",
    "import pandas as pd\n",
    "import numpy as np\n",
    "\n",
    "# wizualizacja \n",
    "import matplotlib.pyplot as plt\n",
    "\n",
    "# transformacja danych\n",
    "from sklearn import preprocessing as prep\n",
    "from sklearn.preprocessing import LabelEncoder\n",
    "\n",
    "# algorytmy UM do sprawdzenia\n",
    "from sklearn.tree import DecisionTreeRegressor\n",
    "from sklearn.neighbors import KNeighborsRegressor\n",
    "from sklearn.ensemble import GradientBoostingRegressor, RandomForestRegressor\n",
    "from sklearn.linear_model import LinearRegression\n",
    "\n",
    "# podziel zbiór danych na trenujący i testowy\n",
    "from sklearn.model_selection import train_test_split\n",
    "# metryki do oceny dokładności regresji\n",
    "from sklearn.metrics import mean_squared_error, mean_absolute_error, r2_score"
   ]
  },
  {
   "cell_type": "markdown",
   "id": "6ad6a802-ab4a-47af-b7ca-c27229805198",
   "metadata": {},
   "source": [
    "## <a name='1'></a>Dane"
   ]
  },
  {
   "cell_type": "markdown",
   "id": "53409acf-e84e-442c-9628-5d53f3031932",
   "metadata": {},
   "source": [
    "### <a name='1.1'></a>Wczytanie"
   ]
  },
  {
   "cell_type": "code",
   "execution_count": 2,
   "id": "34fe0b03-2589-4a49-8a13-d31b96cd2a9a",
   "metadata": {
    "tags": []
   },
   "outputs": [
    {
     "data": {
      "text/html": [
       "<div>\n",
       "<style scoped>\n",
       "    .dataframe tbody tr th:only-of-type {\n",
       "        vertical-align: middle;\n",
       "    }\n",
       "\n",
       "    .dataframe tbody tr th {\n",
       "        vertical-align: top;\n",
       "    }\n",
       "\n",
       "    .dataframe thead th {\n",
       "        text-align: right;\n",
       "    }\n",
       "</style>\n",
       "<table border=\"1\" class=\"dataframe\">\n",
       "  <thead>\n",
       "    <tr style=\"text-align: right;\">\n",
       "      <th></th>\n",
       "      <th>fixed acidity</th>\n",
       "      <th>volatile acidity</th>\n",
       "      <th>citric acid</th>\n",
       "      <th>residual sugar</th>\n",
       "      <th>chlorides</th>\n",
       "      <th>free sulfur dioxide</th>\n",
       "      <th>total sulfur dioxide</th>\n",
       "      <th>density</th>\n",
       "      <th>pH</th>\n",
       "      <th>sulphates</th>\n",
       "      <th>alcohol</th>\n",
       "      <th>quality</th>\n",
       "    </tr>\n",
       "  </thead>\n",
       "  <tbody>\n",
       "    <tr>\n",
       "      <th>0</th>\n",
       "      <td>7.4</td>\n",
       "      <td>0.70</td>\n",
       "      <td>0.00</td>\n",
       "      <td>1.9</td>\n",
       "      <td>0.076</td>\n",
       "      <td>11.0</td>\n",
       "      <td>34.0</td>\n",
       "      <td>0.9978</td>\n",
       "      <td>3.51</td>\n",
       "      <td>0.56</td>\n",
       "      <td>9.4</td>\n",
       "      <td>5</td>\n",
       "    </tr>\n",
       "    <tr>\n",
       "      <th>1</th>\n",
       "      <td>7.8</td>\n",
       "      <td>0.88</td>\n",
       "      <td>0.00</td>\n",
       "      <td>2.6</td>\n",
       "      <td>0.098</td>\n",
       "      <td>25.0</td>\n",
       "      <td>67.0</td>\n",
       "      <td>0.9968</td>\n",
       "      <td>3.20</td>\n",
       "      <td>0.68</td>\n",
       "      <td>9.8</td>\n",
       "      <td>5</td>\n",
       "    </tr>\n",
       "    <tr>\n",
       "      <th>2</th>\n",
       "      <td>7.8</td>\n",
       "      <td>0.76</td>\n",
       "      <td>0.04</td>\n",
       "      <td>2.3</td>\n",
       "      <td>0.092</td>\n",
       "      <td>15.0</td>\n",
       "      <td>54.0</td>\n",
       "      <td>0.9970</td>\n",
       "      <td>3.26</td>\n",
       "      <td>0.65</td>\n",
       "      <td>9.8</td>\n",
       "      <td>5</td>\n",
       "    </tr>\n",
       "  </tbody>\n",
       "</table>\n",
       "</div>"
      ],
      "text/plain": [
       "   fixed acidity  volatile acidity  citric acid  residual sugar  chlorides  \\\n",
       "0            7.4              0.70         0.00             1.9      0.076   \n",
       "1            7.8              0.88         0.00             2.6      0.098   \n",
       "2            7.8              0.76         0.04             2.3      0.092   \n",
       "\n",
       "   free sulfur dioxide  total sulfur dioxide  density    pH  sulphates  \\\n",
       "0                 11.0                  34.0   0.9978  3.51       0.56   \n",
       "1                 25.0                  67.0   0.9968  3.20       0.68   \n",
       "2                 15.0                  54.0   0.9970  3.26       0.65   \n",
       "\n",
       "   alcohol  quality  \n",
       "0      9.4        5  \n",
       "1      9.8        5  \n",
       "2      9.8        5  "
      ]
     },
     "execution_count": 2,
     "metadata": {},
     "output_type": "execute_result"
    }
   ],
   "source": [
    "df_rd = pd.read_csv(\"winequality-red.csv\", sep=\";\")\n",
    "df_rd = pd.DataFrame(df_rd)\n",
    "                    \n",
    "df_rd.head(3)"
   ]
  },
  {
   "cell_type": "code",
   "execution_count": 3,
   "id": "e829546c-9ecb-4e8c-b5a7-25e28b31a8cd",
   "metadata": {
    "tags": []
   },
   "outputs": [
    {
     "name": "stdout",
     "output_type": "stream",
     "text": [
      "<class 'pandas.core.frame.DataFrame'>\n",
      "RangeIndex: 1599 entries, 0 to 1598\n",
      "Data columns (total 13 columns):\n",
      " #   Column                Non-Null Count  Dtype  \n",
      "---  ------                --------------  -----  \n",
      " 0   fixed acidity         1599 non-null   float64\n",
      " 1   volatile acidity      1599 non-null   float64\n",
      " 2   citric acid           1599 non-null   float64\n",
      " 3   residual sugar        1599 non-null   float64\n",
      " 4   chlorides             1599 non-null   float64\n",
      " 5   free sulfur dioxide   1599 non-null   float64\n",
      " 6   total sulfur dioxide  1599 non-null   float64\n",
      " 7   density               1599 non-null   float64\n",
      " 8   pH                    1599 non-null   float64\n",
      " 9   sulphates             1599 non-null   float64\n",
      " 10  alcohol               1599 non-null   float64\n",
      " 11  type                  1599 non-null   object \n",
      " 12  quality               1599 non-null   int64  \n",
      "dtypes: float64(11), int64(1), object(1)\n",
      "memory usage: 162.5+ KB\n"
     ]
    }
   ],
   "source": [
    "# dodanie kolumny z kolorem wina \n",
    "df_rd.insert(11, \"type\", \"red\")\n",
    "\n",
    "df_rd.info()"
   ]
  },
  {
   "cell_type": "code",
   "execution_count": 4,
   "id": "764097c2-4529-4fb2-bc9f-52f920a5133b",
   "metadata": {
    "tags": []
   },
   "outputs": [
    {
     "data": {
      "text/html": [
       "<div>\n",
       "<style scoped>\n",
       "    .dataframe tbody tr th:only-of-type {\n",
       "        vertical-align: middle;\n",
       "    }\n",
       "\n",
       "    .dataframe tbody tr th {\n",
       "        vertical-align: top;\n",
       "    }\n",
       "\n",
       "    .dataframe thead th {\n",
       "        text-align: right;\n",
       "    }\n",
       "</style>\n",
       "<table border=\"1\" class=\"dataframe\">\n",
       "  <thead>\n",
       "    <tr style=\"text-align: right;\">\n",
       "      <th></th>\n",
       "      <th>fixed acidity</th>\n",
       "      <th>volatile acidity</th>\n",
       "      <th>citric acid</th>\n",
       "      <th>residual sugar</th>\n",
       "      <th>chlorides</th>\n",
       "      <th>free sulfur dioxide</th>\n",
       "      <th>total sulfur dioxide</th>\n",
       "      <th>density</th>\n",
       "      <th>pH</th>\n",
       "      <th>sulphates</th>\n",
       "      <th>alcohol</th>\n",
       "      <th>quality</th>\n",
       "    </tr>\n",
       "  </thead>\n",
       "  <tbody>\n",
       "    <tr>\n",
       "      <th>0</th>\n",
       "      <td>7.0</td>\n",
       "      <td>0.27</td>\n",
       "      <td>0.36</td>\n",
       "      <td>20.7</td>\n",
       "      <td>0.045</td>\n",
       "      <td>45.0</td>\n",
       "      <td>170.0</td>\n",
       "      <td>1.0010</td>\n",
       "      <td>3.00</td>\n",
       "      <td>0.45</td>\n",
       "      <td>8.8</td>\n",
       "      <td>6</td>\n",
       "    </tr>\n",
       "    <tr>\n",
       "      <th>1</th>\n",
       "      <td>6.3</td>\n",
       "      <td>0.30</td>\n",
       "      <td>0.34</td>\n",
       "      <td>1.6</td>\n",
       "      <td>0.049</td>\n",
       "      <td>14.0</td>\n",
       "      <td>132.0</td>\n",
       "      <td>0.9940</td>\n",
       "      <td>3.30</td>\n",
       "      <td>0.49</td>\n",
       "      <td>9.5</td>\n",
       "      <td>6</td>\n",
       "    </tr>\n",
       "    <tr>\n",
       "      <th>2</th>\n",
       "      <td>8.1</td>\n",
       "      <td>0.28</td>\n",
       "      <td>0.40</td>\n",
       "      <td>6.9</td>\n",
       "      <td>0.050</td>\n",
       "      <td>30.0</td>\n",
       "      <td>97.0</td>\n",
       "      <td>0.9951</td>\n",
       "      <td>3.26</td>\n",
       "      <td>0.44</td>\n",
       "      <td>10.1</td>\n",
       "      <td>6</td>\n",
       "    </tr>\n",
       "  </tbody>\n",
       "</table>\n",
       "</div>"
      ],
      "text/plain": [
       "   fixed acidity  volatile acidity  citric acid  residual sugar  chlorides  \\\n",
       "0            7.0              0.27         0.36            20.7      0.045   \n",
       "1            6.3              0.30         0.34             1.6      0.049   \n",
       "2            8.1              0.28         0.40             6.9      0.050   \n",
       "\n",
       "   free sulfur dioxide  total sulfur dioxide  density    pH  sulphates  \\\n",
       "0                 45.0                 170.0   1.0010  3.00       0.45   \n",
       "1                 14.0                 132.0   0.9940  3.30       0.49   \n",
       "2                 30.0                  97.0   0.9951  3.26       0.44   \n",
       "\n",
       "   alcohol  quality  \n",
       "0      8.8        6  \n",
       "1      9.5        6  \n",
       "2     10.1        6  "
      ]
     },
     "execution_count": 4,
     "metadata": {},
     "output_type": "execute_result"
    }
   ],
   "source": [
    "df_wh = pd.read_csv(\"winequality-white.csv\", sep=\";\")\n",
    "df_wh = pd.DataFrame(df_wh)\n",
    "                    \n",
    "df_wh.head(3)"
   ]
  },
  {
   "cell_type": "code",
   "execution_count": 5,
   "id": "9c174b59-a658-4867-9c31-aef46c189f7c",
   "metadata": {
    "tags": []
   },
   "outputs": [
    {
     "name": "stdout",
     "output_type": "stream",
     "text": [
      "<class 'pandas.core.frame.DataFrame'>\n",
      "RangeIndex: 4898 entries, 0 to 4897\n",
      "Data columns (total 13 columns):\n",
      " #   Column                Non-Null Count  Dtype  \n",
      "---  ------                --------------  -----  \n",
      " 0   fixed acidity         4898 non-null   float64\n",
      " 1   volatile acidity      4898 non-null   float64\n",
      " 2   citric acid           4898 non-null   float64\n",
      " 3   residual sugar        4898 non-null   float64\n",
      " 4   chlorides             4898 non-null   float64\n",
      " 5   free sulfur dioxide   4898 non-null   float64\n",
      " 6   total sulfur dioxide  4898 non-null   float64\n",
      " 7   density               4898 non-null   float64\n",
      " 8   pH                    4898 non-null   float64\n",
      " 9   sulphates             4898 non-null   float64\n",
      " 10  alcohol               4898 non-null   float64\n",
      " 11  type                  4898 non-null   object \n",
      " 12  quality               4898 non-null   int64  \n",
      "dtypes: float64(11), int64(1), object(1)\n",
      "memory usage: 497.6+ KB\n"
     ]
    }
   ],
   "source": [
    "# dodanie kolumny z kolorem wina \n",
    "df_wh.insert(11, \"type\", \"white\")\n",
    "\n",
    "df_wh.info()"
   ]
  },
  {
   "cell_type": "code",
   "execution_count": 6,
   "id": "01b5bcfb-258a-412a-a209-fcaa8eab2270",
   "metadata": {
    "tags": []
   },
   "outputs": [
    {
     "data": {
      "text/plain": [
       "['fixed acidity',\n",
       " 'volatile acidity',\n",
       " 'citric acid',\n",
       " 'residual sugar',\n",
       " 'chlorides',\n",
       " 'free sulfur dioxide',\n",
       " 'total sulfur dioxide',\n",
       " 'density',\n",
       " 'pH',\n",
       " 'sulphates',\n",
       " 'alcohol',\n",
       " 'type',\n",
       " 'quality']"
      ]
     },
     "execution_count": 6,
     "metadata": {},
     "output_type": "execute_result"
    }
   ],
   "source": [
    "# lista nazw column\n",
    "atrybuty = list(df_rd.columns)\n",
    "\n",
    "atrybuty"
   ]
  },
  {
   "cell_type": "code",
   "execution_count": 7,
   "id": "44e34624-15f4-4b93-9e62-f3c96f9cd476",
   "metadata": {
    "tags": []
   },
   "outputs": [
    {
     "name": "stdout",
     "output_type": "stream",
     "text": [
      "Dane dot. wina czerwonego: \n",
      "[[7.4 0.7 0.0 ... 9.4 'red' 5]\n",
      " [7.8 0.88 0.0 ... 9.8 'red' 5]\n",
      " [7.8 0.76 0.04 ... 9.8 'red' 5]\n",
      " ...\n",
      " [6.3 0.51 0.13 ... 11.0 'red' 6]\n",
      " [5.9 0.645 0.12 ... 10.2 'red' 5]\n",
      " [6.0 0.31 0.47 ... 11.0 'red' 6]]\n",
      "\n",
      "Dane dot. wina białego: \n",
      "[[7.0 0.27 0.36 ... 8.8 'white' 6]\n",
      " [6.3 0.3 0.34 ... 9.5 'white' 6]\n",
      " [8.1 0.28 0.4 ... 10.1 'white' 6]\n",
      " ...\n",
      " [6.5 0.24 0.19 ... 9.4 'white' 6]\n",
      " [5.5 0.29 0.3 ... 12.8 'white' 7]\n",
      " [6.0 0.21 0.38 ... 11.8 'white' 6]]\n"
     ]
    }
   ],
   "source": [
    "# przejście z dataframe na tablice\n",
    "data_rd = df_rd.to_numpy()\n",
    "data_wh = df_wh.to_numpy()\n",
    "\n",
    "print(f\"Dane dot. wina czerwonego: \\n{data_rd}\")\n",
    "print(f\"\\nDane dot. wina białego: \\n{data_wh}\")"
   ]
  },
  {
   "cell_type": "markdown",
   "id": "511c980f-b3dd-447b-ac84-82121314c09d",
   "metadata": {},
   "source": [
    "### <a name='1.2'></a>Przygotowanie"
   ]
  },
  {
   "cell_type": "markdown",
   "id": "927abad9-d622-4fb4-88ee-3f9a27a107f7",
   "metadata": {},
   "source": [
    "#### <a name='1.2.1'></a>Wariant 1 - trenujemy modele osobno dla wina czerwonego i białego"
   ]
  },
  {
   "cell_type": "markdown",
   "id": "7f3705c0-eb51-4a9b-afa2-d378a73e90d2",
   "metadata": {},
   "source": [
    "Pominięto aspekt koloru wina. Nie ma konieczności kodowania, ponieważ wszytskie pozostałe atrybuty nie są wyrażone zmienną dyskretną."
   ]
  },
  {
   "cell_type": "code",
   "execution_count": 8,
   "id": "8aeb0f4d-0d74-4955-8878-df938bdf18e7",
   "metadata": {
    "tags": []
   },
   "outputs": [],
   "source": [
    "# wino czerwone\n",
    "X_rd = data_rd[:,:-2]  # atrybuty bez \"type\"\n",
    "y_rd = data_rd[:,-1]  # decyzja\n",
    "\n",
    "# wino białe\n",
    "X_wh = data_wh[:,:-2]  # atrybuty bez \"type\"\n",
    "y_wh = data_wh[:,-1]  # decyzja"
   ]
  },
  {
   "cell_type": "markdown",
   "id": "fce5812c-70c5-49da-9204-88f8ef1a712e",
   "metadata": {},
   "source": [
    "#### <a name='1.2.2'></a>Wariant 2 -  trenujemy model dla wszystkich rekordów łącznie"
   ]
  },
  {
   "cell_type": "markdown",
   "id": "21f9b8b9-0665-46cc-8e30-0b71f9ef07b3",
   "metadata": {},
   "source": [
    "Kolor wina potraktowano jako jeden z atrybutów, który współwpływa na jakość w kombinacji z pozostałymi cechami."
   ]
  },
  {
   "cell_type": "code",
   "execution_count": 9,
   "id": "4edd6e71-b7e0-4961-a5f5-49141c684001",
   "metadata": {
    "tags": []
   },
   "outputs": [
    {
     "data": {
      "text/plain": [
       "array([[7.4, 0.7, 0.0, ..., 0.56, 9.4, 0],\n",
       "       [7.8, 0.88, 0.0, ..., 0.68, 9.8, 0],\n",
       "       [7.8, 0.76, 0.04, ..., 0.65, 9.8, 0],\n",
       "       ...,\n",
       "       [6.5, 0.24, 0.19, ..., 0.46, 9.4, 1],\n",
       "       [5.5, 0.29, 0.3, ..., 0.38, 12.8, 1],\n",
       "       [6.0, 0.21, 0.38, ..., 0.32, 11.8, 1]], dtype=object)"
      ]
     },
     "execution_count": 9,
     "metadata": {},
     "output_type": "execute_result"
    }
   ],
   "source": [
    "X_rd2 = data_rd[:,:-1]  # atrybuty\n",
    "y_rd2 = data_rd[:,-1]  # decyzja\n",
    "\n",
    "X_wh2 = data_wh[:,:-1]  # atrybuty\n",
    "y_wh2 = data_wh[:,-1]  # decyzja\n",
    "\n",
    "X = np.concatenate((X_rd2, X_wh2), axis=0)\n",
    "y = np.concatenate((y_rd2, y_wh2), axis=0)\n",
    "\n",
    "# transformacja danych\n",
    "le = LabelEncoder()\n",
    "le.fit([\"red\", \"white\"])  # red: 0, white: 1\n",
    "list(le.classes_)\n",
    "\n",
    "X[:,-1] = le.fit_transform(X[:,-1])\n",
    "\n",
    "X  # podgląd"
   ]
  },
  {
   "cell_type": "code",
   "execution_count": 10,
   "id": "85d23971-9242-4cbf-a902-923679dcde4f",
   "metadata": {
    "tags": []
   },
   "outputs": [
    {
     "name": "stdout",
     "output_type": "stream",
     "text": [
      "1599\n",
      "4898\n"
     ]
    }
   ],
   "source": [
    "# sprawdzenie, czy kodowanie przebiegło poprawnie\n",
    "red = 0\n",
    "white = 0\n",
    "\n",
    "for i in range(len(X)):\n",
    "  if X[i][-1] == 0:\n",
    "    red += 1\n",
    "  else:\n",
    "    white +=1\n",
    "    \n",
    "print(red)\n",
    "print(white)"
   ]
  },
  {
   "cell_type": "markdown",
   "id": "15820d89-364f-4222-837d-80af280a662e",
   "metadata": {},
   "source": [
    "Kodowanie przebiegło poprawnie. Liczba \"red\" oraz \"white\" zgodna z ilością rekordów w odpowiadających zbiorach danych."
   ]
  },
  {
   "cell_type": "markdown",
   "id": "ec1380f6-8af6-4749-803e-020d3a8cb0ea",
   "metadata": {},
   "source": [
    "## <a name='2'></a>Uczenie maszynowe - model regresji"
   ]
  },
  {
   "cell_type": "code",
   "execution_count": 11,
   "id": "5977687f-b976-4b66-b4f7-2b0328492cef",
   "metadata": {
    "tags": []
   },
   "outputs": [],
   "source": [
    "# algorytmy UM do sprawdzenia\n",
    "regressors = {\n",
    "    \"LR\"      : LinearRegression(),\n",
    "    \n",
    "    \"DT2\"     : DecisionTreeRegressor(max_depth=2),\n",
    "    \"DT5\"     : DecisionTreeRegressor(max_depth=5),\n",
    "    \"DT10\"    : DecisionTreeRegressor(max_depth=10),\n",
    "    \"DT\"     : DecisionTreeRegressor(max_depth=None, random_state=1),\n",
    "\n",
    "    \"knn5\"    : KNeighborsRegressor(n_neighbors=5),\n",
    "    \"knn10\"   : KNeighborsRegressor(n_neighbors=10),\n",
    "    \"knn50\"   : KNeighborsRegressor(n_neighbors=50),\n",
    "    \"knn100\"  : KNeighborsRegressor(n_neighbors=100),\n",
    "\n",
    "    \"RF100.1\" : RandomForestRegressor(n_estimators = 100, random_state=1),\n",
    "    \"RF100.2\" : RandomForestRegressor(n_estimators = 100, random_state=2),\n",
    "    \"RF250.1\" : RandomForestRegressor(n_estimators = 250, random_state=1),\n",
    "    \"RF250.2\" : RandomForestRegressor(n_estimators = 250, random_state=2),\n",
    "    \"RF500.1\" : RandomForestRegressor(n_estimators = 500, random_state=1),\n",
    "    \"RF500.2\" : RandomForestRegressor(n_estimators = 500, random_state=2),\n",
    "    \n",
    "    \"GBR.1.10.1\" : GradientBoostingRegressor(n_estimators=10, random_state=1, learning_rate=0.01),\n",
    "    \"GBR.1.100\"  : GradientBoostingRegressor(n_estimators=100, random_state=1, learning_rate=0.1),\n",
    "    \"GBR.2.100\"  : GradientBoostingRegressor(n_estimators=100, random_state=1, learning_rate=0.2),\n",
    "    \"GBR.1.500\"  : GradientBoostingRegressor(n_estimators=500, random_state=1, learning_rate=0.1),\n",
    "    \"GBR.2.500\"  : GradientBoostingRegressor(n_estimators=500, random_state=1, learning_rate=0.2)\n",
    "}"
   ]
  },
  {
   "cell_type": "markdown",
   "id": "c28c9080-67ae-4433-9920-795f5ff443d8",
   "metadata": {},
   "source": [
    "*Metryki do oceny dokładności regresji:*\n",
    "* **Mean Absolute Error (MAE)**: im niższa wartość, tym lepsze modele.\n",
    "* **Mean Squared Error (MSE)**: im niższa wartość, tym lepsze modele.\n",
    "* **Root Mean Squared Error (RMSE)**: im niższa wartość, tym lepsze modele.\n",
    "\n",
    "*Metryki do oceny jakości modelu:*\n",
    "* **R-squared (R2) score**: im wyższa wartość, tym lepsze modele."
   ]
  },
  {
   "cell_type": "code",
   "execution_count": 12,
   "id": "af1e8b6e-52c8-422b-9170-acf8052a0ac3",
   "metadata": {
    "tags": []
   },
   "outputs": [],
   "source": [
    "# dla zbioru danych ocen metryki\n",
    "col = ['MSE', 'RMSE', 'MAE', 'R2']\n",
    "index = regressors"
   ]
  },
  {
   "cell_type": "markdown",
   "id": "3c42b2bd-7bfd-4e39-b78f-6fc93290a657",
   "metadata": {},
   "source": [
    "### <a name='2.1'></a>Wariant 1"
   ]
  },
  {
   "cell_type": "markdown",
   "id": "c9a5d626-a2a7-4596-b653-0d4145a24e0e",
   "metadata": {},
   "source": [
    "#### <a name='2.1.1'></a>Wino czerwone"
   ]
  },
  {
   "cell_type": "code",
   "execution_count": 13,
   "id": "0b004e58-c369-43b3-b622-fd1bcb1bcc25",
   "metadata": {
    "tags": []
   },
   "outputs": [],
   "source": [
    "# nowy zestaw danych\n",
    "new_data_w1 = [\n",
    "    [6.2, 0.32, 0.33, 18.5, 0.051, 25.0, 144.0, 0.9955, 3.13, 0.47, 9.9],\n",
    "    [7.6, 0.25, 0.41, 5.5, 0.040, 11.1, 98.0, 1.0005, 3.00, 0.42, 8.8]\n",
    "]"
   ]
  },
  {
   "cell_type": "code",
   "execution_count": 16,
   "id": "8418c685-af70-44fd-a8aa-95bd9804e173",
   "metadata": {
    "tags": []
   },
   "outputs": [
    {
     "data": {
      "text/html": [
       "<div>\n",
       "<style scoped>\n",
       "    .dataframe tbody tr th:only-of-type {\n",
       "        vertical-align: middle;\n",
       "    }\n",
       "\n",
       "    .dataframe tbody tr th {\n",
       "        vertical-align: top;\n",
       "    }\n",
       "\n",
       "    .dataframe thead th {\n",
       "        text-align: right;\n",
       "    }\n",
       "</style>\n",
       "<table border=\"1\" class=\"dataframe\">\n",
       "  <thead>\n",
       "    <tr style=\"text-align: right;\">\n",
       "      <th></th>\n",
       "      <th>MSE</th>\n",
       "      <th>RMSE</th>\n",
       "      <th>MAE</th>\n",
       "      <th>R2</th>\n",
       "    </tr>\n",
       "  </thead>\n",
       "  <tbody>\n",
       "    <tr>\n",
       "      <th>LR</th>\n",
       "      <td>0.406565</td>\n",
       "      <td>0.637624</td>\n",
       "      <td>0.494714</td>\n",
       "      <td>0.349817</td>\n",
       "    </tr>\n",
       "    <tr>\n",
       "      <th>DT2</th>\n",
       "      <td>0.480426</td>\n",
       "      <td>0.693127</td>\n",
       "      <td>0.550699</td>\n",
       "      <td>0.231698</td>\n",
       "    </tr>\n",
       "    <tr>\n",
       "      <th>DT5</th>\n",
       "      <td>0.459929</td>\n",
       "      <td>0.678181</td>\n",
       "      <td>0.532565</td>\n",
       "      <td>0.264476</td>\n",
       "    </tr>\n",
       "    <tr>\n",
       "      <th>DT10</th>\n",
       "      <td>0.553394</td>\n",
       "      <td>0.743905</td>\n",
       "      <td>0.51487</td>\n",
       "      <td>0.115005</td>\n",
       "    </tr>\n",
       "    <tr>\n",
       "      <th>DT</th>\n",
       "      <td>0.629167</td>\n",
       "      <td>0.7932</td>\n",
       "      <td>0.479167</td>\n",
       "      <td>-0.006171</td>\n",
       "    </tr>\n",
       "    <tr>\n",
       "      <th>knn5</th>\n",
       "      <td>0.565833</td>\n",
       "      <td>0.752219</td>\n",
       "      <td>0.573333</td>\n",
       "      <td>0.095113</td>\n",
       "    </tr>\n",
       "    <tr>\n",
       "      <th>knn10</th>\n",
       "      <td>0.541875</td>\n",
       "      <td>0.736122</td>\n",
       "      <td>0.579167</td>\n",
       "      <td>0.133427</td>\n",
       "    </tr>\n",
       "    <tr>\n",
       "      <th>knn50</th>\n",
       "      <td>0.574895</td>\n",
       "      <td>0.758218</td>\n",
       "      <td>0.605333</td>\n",
       "      <td>0.080621</td>\n",
       "    </tr>\n",
       "    <tr>\n",
       "      <th>knn100</th>\n",
       "      <td>0.586649</td>\n",
       "      <td>0.76593</td>\n",
       "      <td>0.626833</td>\n",
       "      <td>0.061824</td>\n",
       "    </tr>\n",
       "    <tr>\n",
       "      <th>RF100.1</th>\n",
       "      <td>0.327583</td>\n",
       "      <td>0.572348</td>\n",
       "      <td>0.418042</td>\n",
       "      <td>0.476126</td>\n",
       "    </tr>\n",
       "    <tr>\n",
       "      <th>RF100.2</th>\n",
       "      <td>0.325005</td>\n",
       "      <td>0.570092</td>\n",
       "      <td>0.416687</td>\n",
       "      <td>0.480248</td>\n",
       "    </tr>\n",
       "    <tr>\n",
       "      <th>RF250.1</th>\n",
       "      <td>0.320421</td>\n",
       "      <td>0.566058</td>\n",
       "      <td>0.414642</td>\n",
       "      <td>0.487579</td>\n",
       "    </tr>\n",
       "    <tr>\n",
       "      <th>RF250.2</th>\n",
       "      <td>0.324841</td>\n",
       "      <td>0.569948</td>\n",
       "      <td>0.417125</td>\n",
       "      <td>0.48051</td>\n",
       "    </tr>\n",
       "    <tr>\n",
       "      <th>RF500.1</th>\n",
       "      <td>0.320956</td>\n",
       "      <td>0.56653</td>\n",
       "      <td>0.416471</td>\n",
       "      <td>0.486723</td>\n",
       "    </tr>\n",
       "    <tr>\n",
       "      <th>RF500.2</th>\n",
       "      <td>0.324457</td>\n",
       "      <td>0.569611</td>\n",
       "      <td>0.417096</td>\n",
       "      <td>0.481125</td>\n",
       "    </tr>\n",
       "    <tr>\n",
       "      <th>GBR.1.10.1</th>\n",
       "      <td>0.58906</td>\n",
       "      <td>0.767502</td>\n",
       "      <td>0.656714</td>\n",
       "      <td>0.057969</td>\n",
       "    </tr>\n",
       "    <tr>\n",
       "      <th>GBR.1.100</th>\n",
       "      <td>0.373447</td>\n",
       "      <td>0.611103</td>\n",
       "      <td>0.469631</td>\n",
       "      <td>0.402779</td>\n",
       "    </tr>\n",
       "    <tr>\n",
       "      <th>GBR.2.100</th>\n",
       "      <td>0.397503</td>\n",
       "      <td>0.630478</td>\n",
       "      <td>0.474122</td>\n",
       "      <td>0.364309</td>\n",
       "    </tr>\n",
       "    <tr>\n",
       "      <th>GBR.1.500</th>\n",
       "      <td>0.38186</td>\n",
       "      <td>0.617948</td>\n",
       "      <td>0.450519</td>\n",
       "      <td>0.389325</td>\n",
       "    </tr>\n",
       "    <tr>\n",
       "      <th>GBR.2.500</th>\n",
       "      <td>0.395382</td>\n",
       "      <td>0.628794</td>\n",
       "      <td>0.43372</td>\n",
       "      <td>0.367701</td>\n",
       "    </tr>\n",
       "  </tbody>\n",
       "</table>\n",
       "</div>"
      ],
      "text/plain": [
       "                 MSE      RMSE       MAE        R2\n",
       "LR          0.406565  0.637624  0.494714  0.349817\n",
       "DT2         0.480426  0.693127  0.550699  0.231698\n",
       "DT5         0.459929  0.678181  0.532565  0.264476\n",
       "DT10        0.553394  0.743905   0.51487  0.115005\n",
       "DT          0.629167    0.7932  0.479167 -0.006171\n",
       "knn5        0.565833  0.752219  0.573333  0.095113\n",
       "knn10       0.541875  0.736122  0.579167  0.133427\n",
       "knn50       0.574895  0.758218  0.605333  0.080621\n",
       "knn100      0.586649   0.76593  0.626833  0.061824\n",
       "RF100.1     0.327583  0.572348  0.418042  0.476126\n",
       "RF100.2     0.325005  0.570092  0.416687  0.480248\n",
       "RF250.1     0.320421  0.566058  0.414642  0.487579\n",
       "RF250.2     0.324841  0.569948  0.417125   0.48051\n",
       "RF500.1     0.320956   0.56653  0.416471  0.486723\n",
       "RF500.2     0.324457  0.569611  0.417096  0.481125\n",
       "GBR.1.10.1   0.58906  0.767502  0.656714  0.057969\n",
       "GBR.1.100   0.373447  0.611103  0.469631  0.402779\n",
       "GBR.2.100   0.397503  0.630478  0.474122  0.364309\n",
       "GBR.1.500    0.38186  0.617948  0.450519  0.389325\n",
       "GBR.2.500   0.395382  0.628794   0.43372  0.367701"
      ]
     },
     "execution_count": 16,
     "metadata": {},
     "output_type": "execute_result"
    }
   ],
   "source": [
    "# podziel zbiór danych na trenujący i testowy\n",
    "X_train, X_test, y_train, y_test = train_test_split(X_rd, y_rd, test_size=0.3)\n",
    "\n",
    "# ocena regresorów\n",
    "best_r2_w1rd = (\"brak\", 0)  # model o najwyższej jakości -- r2\n",
    "best_rmse_w1rd = (\"brak\", 1)  # model o najwyższej dokładności pod względem RMSE\n",
    "\n",
    "# df oceny regresorów\n",
    "df_w1rd = pd.DataFrame(data={}, index=index, columns=col)\n",
    "\n",
    "for reg_name in regressors:\n",
    "    reg = regressors[reg_name]\n",
    "\n",
    "    reg.fit(X_train, y_train)\n",
    "    y_pred = reg.predict(X_test)\n",
    "\n",
    "    MSE = mean_squared_error(y_test, y_pred)\n",
    "    RMSE = mean_squared_error(y_test, y_pred, squared=False)\n",
    "    MAE = mean_absolute_error(y_test, y_pred)\n",
    "    R2 = r2_score(y_test, y_pred)\n",
    "\n",
    "    # ocena jakości --- max r2\n",
    "    r2 = r2_score(y_test, y_pred)\n",
    "    if r2 > best_r2_w1rd[1]:\n",
    "      best_r2_w1rd = (reg_name, r2)\n",
    "\n",
    "    # ocena dokładności --- min rmse\n",
    "    rmse = mean_squared_error(y_test, y_pred, squared=False)\n",
    "    if rmse < best_rmse_w1rd[1]:\n",
    "      best_rmse_w1rd = (reg_name, rmse)\n",
    "    \n",
    "    # zawrzyj w df oceny regresorów\n",
    "    df_w1rd.loc[reg_name] = [MSE, RMSE, MAE, R2]\n",
    "\n",
    "df_w1rd"
   ]
  },
  {
   "cell_type": "code",
   "execution_count": 17,
   "id": "61887ed5-c8e1-44fd-8df7-d2ab2e48adac",
   "metadata": {
    "tags": []
   },
   "outputs": [
    {
     "name": "stdout",
     "output_type": "stream",
     "text": [
      "\n",
      "Najwyższa jakość:         RF250.1 \t r2 =  0.48757857223174683\n",
      "\n",
      "Ok. 48.76% zmienności jakości wina zostało wyjaśnione przez model.\n",
      "\n",
      "Najwyższa dokładność:     RF250.1 \t rmse =  0.566057682573075\n",
      "\n",
      "Wartości przewidywane wahają się przeciętnie od wartości rzeczywistych o 0.57 punktu oceny.\n",
      "\n"
     ]
    },
    {
     "data": {
      "image/png": "[encoded data removed]",
      "text/plain": [
       "<Figure size 1600x600 with 1 Axes>"
      ]
     },
     "metadata": {},
     "output_type": "display_data"
    },
    {
     "data": {
      "image/png": "[encoded data removed]",
      "text/plain": [
       "<Figure size 1600x600 with 1 Axes>"
      ]
     },
     "metadata": {},
     "output_type": "display_data"
    }
   ],
   "source": [
    "# zmień index df na listę\n",
    "index_array_w1rd = np.array(df_w1rd.index.tolist()) \n",
    "\n",
    "# wykres słupkowy wartości błędu RMSE dla regresorów\n",
    "plt.figure(figsize=(16,6))\n",
    "plt.bar(x = index_array_w1rd, height = 'RMSE', data = df_w1rd, align = 'center')\n",
    "plt.title('RMSE values of regressors')\n",
    "plt.gca().tick_params(axis='x', rotation=90)\n",
    "\n",
    "# wykres słupkowy wartości R2 dla regresorów\n",
    "plt.figure(figsize=(16,6))\n",
    "plt.bar(x = index_array_w1rd, height = 'R2', data = df_w1rd, align = 'center', color='orange')\n",
    "plt.title('R2-scores of classifiers')\n",
    "plt.gca().tick_params(axis='x', rotation=90)\n",
    "\n",
    "# wnioski\n",
    "print(\"\\nNajwyższa jakość:        \", best_r2_w1rd[0],    \"\\t r2 = \", best_r2_w1rd[1])\n",
    "print(\"\\nOk. {}% zmienności jakości wina zostało wyjaśnione przez model.\".format((best_r2_w1rd[1]*100).round(2)))\n",
    "print(\"\\nNajwyższa dokładność:    \", best_rmse_w1rd[0],  \"\\t rmse = \", best_rmse_w1rd[1])\n",
    "print(\"\\nWartości przewidywane wahają się przeciętnie od wartości rzeczywistych o {} punktu oceny.\\n\".format(best_rmse_w1rd[1].round(2)))"
   ]
  },
  {
   "cell_type": "code",
   "execution_count": 18,
   "id": "4d4c7172-586c-4e08-b59b-cf9dd7074831",
   "metadata": {
    "tags": []
   },
   "outputs": [
    {
     "data": {
      "text/plain": [
       "array([5.456, 5.116])"
      ]
     },
     "execution_count": 18,
     "metadata": {},
     "output_type": "execute_result"
    }
   ],
   "source": [
    "best_reg_w1rd = regressors[best_r2_w1rd[0]]\n",
    "\n",
    "best_reg_w1rd.fit(X_rd, y_rd)  # trenuj na wszystkim\n",
    "\n",
    "result_rd = best_reg_w1rd.predict(new_data_w1)\n",
    "\n",
    "result_rd  # podgląd"
   ]
  },
  {
   "cell_type": "markdown",
   "id": "030702aa-ec8d-4393-8c40-f8e0d5917bbd",
   "metadata": {},
   "source": [
    "#### <a name='2.1.2'></a>Wino białe"
   ]
  },
  {
   "cell_type": "code",
   "execution_count": 20,
   "id": "c5f7105f-1938-4a44-8c54-b2f6e49a9af9",
   "metadata": {
    "tags": []
   },
   "outputs": [
    {
     "data": {
      "text/html": [
       "<div>\n",
       "<style scoped>\n",
       "    .dataframe tbody tr th:only-of-type {\n",
       "        vertical-align: middle;\n",
       "    }\n",
       "\n",
       "    .dataframe tbody tr th {\n",
       "        vertical-align: top;\n",
       "    }\n",
       "\n",
       "    .dataframe thead th {\n",
       "        text-align: right;\n",
       "    }\n",
       "</style>\n",
       "<table border=\"1\" class=\"dataframe\">\n",
       "  <thead>\n",
       "    <tr style=\"text-align: right;\">\n",
       "      <th></th>\n",
       "      <th>MSE</th>\n",
       "      <th>RMSE</th>\n",
       "      <th>MAE</th>\n",
       "      <th>R2</th>\n",
       "    </tr>\n",
       "  </thead>\n",
       "  <tbody>\n",
       "    <tr>\n",
       "      <th>LR</th>\n",
       "      <td>0.577691</td>\n",
       "      <td>0.76006</td>\n",
       "      <td>0.588815</td>\n",
       "      <td>0.265846</td>\n",
       "    </tr>\n",
       "    <tr>\n",
       "      <th>DT2</th>\n",
       "      <td>0.616474</td>\n",
       "      <td>0.785159</td>\n",
       "      <td>0.633679</td>\n",
       "      <td>0.216559</td>\n",
       "    </tr>\n",
       "    <tr>\n",
       "      <th>DT5</th>\n",
       "      <td>0.582881</td>\n",
       "      <td>0.763467</td>\n",
       "      <td>0.604239</td>\n",
       "      <td>0.25925</td>\n",
       "    </tr>\n",
       "    <tr>\n",
       "      <th>DT10</th>\n",
       "      <td>0.637609</td>\n",
       "      <td>0.798504</td>\n",
       "      <td>0.58486</td>\n",
       "      <td>0.1897</td>\n",
       "    </tr>\n",
       "    <tr>\n",
       "      <th>DT</th>\n",
       "      <td>0.797959</td>\n",
       "      <td>0.893286</td>\n",
       "      <td>0.539456</td>\n",
       "      <td>-0.01408</td>\n",
       "    </tr>\n",
       "    <tr>\n",
       "      <th>knn5</th>\n",
       "      <td>0.648653</td>\n",
       "      <td>0.80539</td>\n",
       "      <td>0.628027</td>\n",
       "      <td>0.175665</td>\n",
       "    </tr>\n",
       "    <tr>\n",
       "      <th>knn10</th>\n",
       "      <td>0.630231</td>\n",
       "      <td>0.793871</td>\n",
       "      <td>0.632109</td>\n",
       "      <td>0.199076</td>\n",
       "    </tr>\n",
       "    <tr>\n",
       "      <th>knn50</th>\n",
       "      <td>0.650544</td>\n",
       "      <td>0.806563</td>\n",
       "      <td>0.635469</td>\n",
       "      <td>0.173261</td>\n",
       "    </tr>\n",
       "    <tr>\n",
       "      <th>knn100</th>\n",
       "      <td>0.664136</td>\n",
       "      <td>0.814946</td>\n",
       "      <td>0.642395</td>\n",
       "      <td>0.155988</td>\n",
       "    </tr>\n",
       "    <tr>\n",
       "      <th>RF100.1</th>\n",
       "      <td>0.38923</td>\n",
       "      <td>0.623883</td>\n",
       "      <td>0.456469</td>\n",
       "      <td>0.505351</td>\n",
       "    </tr>\n",
       "    <tr>\n",
       "      <th>RF100.2</th>\n",
       "      <td>0.391497</td>\n",
       "      <td>0.625697</td>\n",
       "      <td>0.455741</td>\n",
       "      <td>0.50247</td>\n",
       "    </tr>\n",
       "    <tr>\n",
       "      <th>RF250.1</th>\n",
       "      <td>0.388862</td>\n",
       "      <td>0.623588</td>\n",
       "      <td>0.456601</td>\n",
       "      <td>0.505817</td>\n",
       "    </tr>\n",
       "    <tr>\n",
       "      <th>RF250.2</th>\n",
       "      <td>0.390711</td>\n",
       "      <td>0.625069</td>\n",
       "      <td>0.456207</td>\n",
       "      <td>0.503468</td>\n",
       "    </tr>\n",
       "    <tr>\n",
       "      <th>RF500.1</th>\n",
       "      <td>0.388301</td>\n",
       "      <td>0.623138</td>\n",
       "      <td>0.455403</td>\n",
       "      <td>0.506531</td>\n",
       "    </tr>\n",
       "    <tr>\n",
       "      <th>RF500.2</th>\n",
       "      <td>0.38767</td>\n",
       "      <td>0.622632</td>\n",
       "      <td>0.45538</td>\n",
       "      <td>0.507333</td>\n",
       "    </tr>\n",
       "    <tr>\n",
       "      <th>GBR.1.10.1</th>\n",
       "      <td>0.747485</td>\n",
       "      <td>0.864572</td>\n",
       "      <td>0.645358</td>\n",
       "      <td>0.050064</td>\n",
       "    </tr>\n",
       "    <tr>\n",
       "      <th>GBR.1.100</th>\n",
       "      <td>0.47729</td>\n",
       "      <td>0.690862</td>\n",
       "      <td>0.544793</td>\n",
       "      <td>0.39344</td>\n",
       "    </tr>\n",
       "    <tr>\n",
       "      <th>GBR.2.100</th>\n",
       "      <td>0.47007</td>\n",
       "      <td>0.685617</td>\n",
       "      <td>0.541203</td>\n",
       "      <td>0.402615</td>\n",
       "    </tr>\n",
       "    <tr>\n",
       "      <th>GBR.1.500</th>\n",
       "      <td>0.445448</td>\n",
       "      <td>0.667419</td>\n",
       "      <td>0.518227</td>\n",
       "      <td>0.433906</td>\n",
       "    </tr>\n",
       "    <tr>\n",
       "      <th>GBR.2.500</th>\n",
       "      <td>0.448916</td>\n",
       "      <td>0.670012</td>\n",
       "      <td>0.508164</td>\n",
       "      <td>0.429498</td>\n",
       "    </tr>\n",
       "  </tbody>\n",
       "</table>\n",
       "</div>"
      ],
      "text/plain": [
       "                 MSE      RMSE       MAE        R2\n",
       "LR          0.577691   0.76006  0.588815  0.265846\n",
       "DT2         0.616474  0.785159  0.633679  0.216559\n",
       "DT5         0.582881  0.763467  0.604239   0.25925\n",
       "DT10        0.637609  0.798504   0.58486    0.1897\n",
       "DT          0.797959  0.893286  0.539456  -0.01408\n",
       "knn5        0.648653   0.80539  0.628027  0.175665\n",
       "knn10       0.630231  0.793871  0.632109  0.199076\n",
       "knn50       0.650544  0.806563  0.635469  0.173261\n",
       "knn100      0.664136  0.814946  0.642395  0.155988\n",
       "RF100.1      0.38923  0.623883  0.456469  0.505351\n",
       "RF100.2     0.391497  0.625697  0.455741   0.50247\n",
       "RF250.1     0.388862  0.623588  0.456601  0.505817\n",
       "RF250.2     0.390711  0.625069  0.456207  0.503468\n",
       "RF500.1     0.388301  0.623138  0.455403  0.506531\n",
       "RF500.2      0.38767  0.622632   0.45538  0.507333\n",
       "GBR.1.10.1  0.747485  0.864572  0.645358  0.050064\n",
       "GBR.1.100    0.47729  0.690862  0.544793   0.39344\n",
       "GBR.2.100    0.47007  0.685617  0.541203  0.402615\n",
       "GBR.1.500   0.445448  0.667419  0.518227  0.433906\n",
       "GBR.2.500   0.448916  0.670012  0.508164  0.429498"
      ]
     },
     "execution_count": 20,
     "metadata": {},
     "output_type": "execute_result"
    }
   ],
   "source": [
    "# podziel zbiór danych na trenujący i testowy\n",
    "X_train, X_test, y_train, y_test = train_test_split(X_wh, y_wh, test_size=0.3)\n",
    "\n",
    "# ocena regresorów\n",
    "best_r2_w1wh = (\"brak\", 0)  # model o najwyższej jakości -- r2\n",
    "best_rmse_w1wh = (\"brak\", 1)  # model o najwyższej dokładności pod względem RMSE\n",
    "\n",
    "# df oceny regresorów\n",
    "df_w1wh = pd.DataFrame(data={}, index=index, columns=col)\n",
    "\n",
    "for reg_name in regressors:\n",
    "    reg = regressors[reg_name]\n",
    "\n",
    "    reg.fit(X_train, y_train)\n",
    "    y_pred = reg.predict(X_test)\n",
    "\n",
    "    MSE = mean_squared_error(y_test, y_pred)\n",
    "    RMSE = mean_squared_error(y_test, y_pred, squared=False)\n",
    "    MAE = mean_absolute_error(y_test, y_pred)\n",
    "    R2 = r2_score(y_test, y_pred)\n",
    "\n",
    "    # ocena jakości --- max r2\n",
    "    r2 = r2_score(y_test, y_pred)\n",
    "    if r2 > best_r2_w1wh[1]:\n",
    "      best_r2_w1wh = (reg_name, r2)\n",
    "\n",
    "    # ocena dokładności --- min rmse\n",
    "    rmse = mean_squared_error(y_test, y_pred, squared=False)\n",
    "    if rmse < best_rmse_w1wh[1]:\n",
    "      best_rmse_w1wh = (reg_name, rmse)\n",
    "    \n",
    "    # zawrzyj w df oceny regresorów\n",
    "    df_w1wh.loc[reg_name] = [MSE, RMSE, MAE, R2]\n",
    "\n",
    "df_w1wh"
   ]
  },
  {
   "cell_type": "code",
   "execution_count": 21,
   "id": "b5353e77-0959-4e56-a403-6209e8239081",
   "metadata": {
    "tags": []
   },
   "outputs": [
    {
     "name": "stdout",
     "output_type": "stream",
     "text": [
      "\n",
      "Najwyższa jakość:         RF500.2 \t r2 =  0.5073326454199059\n",
      "\n",
      "Ok. 50.73% zmienności jakości wina zostało wyjaśnione przez model.\n",
      "\n",
      "Najwyższa dokładność:     RF500.2 \t rmse =  0.6226315843224774\n",
      "\n",
      "Wartości przewidywane wahają się przeciętnie od wartości rzeczywistych o 0.62 punktu oceny.\n",
      "\n"
     ]
    },
    {
     "data": {
      "image/png": "[encoded data removed]",
      "text/plain": [
       "<Figure size 1600x600 with 1 Axes>"
      ]
     },
     "metadata": {},
     "output_type": "display_data"
    },
    {
     "data": {
      "image/png": "[encoded data removed]",
      "text/plain": [
       "<Figure size 1600x600 with 1 Axes>"
      ]
     },
     "metadata": {},
     "output_type": "display_data"
    }
   ],
   "source": [
    "# zmień index df na listę\n",
    "index_array_w1wh = np.array(df_w1wh.index.tolist()) \n",
    "\n",
    "# wykres słupkowy wartości błędu RMSE dla regresorów\n",
    "plt.figure(figsize=(16,6))\n",
    "plt.bar(x = index_array_w1wh, height = 'RMSE', data = df_w1wh, align = 'center')\n",
    "plt.title('RMSE values of regressors')\n",
    "plt.gca().tick_params(axis='x', rotation=90)\n",
    "\n",
    "# wykres słupkowy wartości R2 dla regresorów\n",
    "plt.figure(figsize=(16,6))\n",
    "plt.bar(x = index_array_w1wh, height = 'R2', data = df_w1wh, align = 'center', color='orange')\n",
    "plt.title('R2-scores of regressors')\n",
    "plt.gca().tick_params(axis='x', rotation=90)\n",
    "\n",
    "# wnioski\n",
    "print(\"\\nNajwyższa jakość:        \", best_r2_w1wh[0],    \"\\t r2 = \", best_r2_w1wh[1])\n",
    "print(\"\\nOk. {}% zmienności jakości wina zostało wyjaśnione przez model.\".format((best_r2_w1wh[1]*100).round(2)))\n",
    "print(\"\\nNajwyższa dokładność:    \", best_rmse_w1wh[0],  \"\\t rmse = \", best_rmse_w1wh[1])\n",
    "print(\"\\nWartości przewidywane wahają się przeciętnie od wartości rzeczywistych o {} punktu oceny.\\n\".format((best_rmse_w1wh[1]).round(2)))"
   ]
  },
  {
   "cell_type": "code",
   "execution_count": 22,
   "id": "0d7bd909-0660-4cff-8903-0d456cbaa78b",
   "metadata": {
    "tags": []
   },
   "outputs": [
    {
     "data": {
      "text/plain": [
       "array([5.454, 5.252])"
      ]
     },
     "execution_count": 22,
     "metadata": {},
     "output_type": "execute_result"
    }
   ],
   "source": [
    "best_reg_w1wh = regressors[best_r2_w1wh[0]]\n",
    "\n",
    "best_reg_w1wh.fit(X_wh, y_wh)  # trenuj na wszystkim\n",
    "\n",
    "result_wh = best_reg_w1wh.predict(new_data_w1)\n",
    "\n",
    "result_wh  # podgląd"
   ]
  },
  {
   "cell_type": "markdown",
   "id": "1ad5b620-5a3a-434c-916f-d4f0dda768f9",
   "metadata": {
    "tags": []
   },
   "source": [
    "### <a name='2.2'></a>Wariant 2"
   ]
  },
  {
   "cell_type": "code",
   "execution_count": 23,
   "id": "3c694b15-ec8e-4c88-b907-d1dba8a992e9",
   "metadata": {
    "tags": []
   },
   "outputs": [],
   "source": [
    "# nowy zestaw danych\n",
    "new_data_w2 = [\n",
    "    [6.2, 0.32, 0.33, 18.5, 0.051, 25.0, 144.0, 0.9955, 3.13, 0.47, 9.9, 1],\n",
    "    [7.6, 0.25, 0.41, 5.5, 0.040, 11.1, 98.0, 1.0005, 3.00, 0.42, 8.8, 0]\n",
    "]"
   ]
  },
  {
   "cell_type": "code",
   "execution_count": 24,
   "id": "d5a6633c-d259-48f2-92e8-76fb41e88202",
   "metadata": {
    "tags": []
   },
   "outputs": [
    {
     "data": {
      "text/html": [
       "<div>\n",
       "<style scoped>\n",
       "    .dataframe tbody tr th:only-of-type {\n",
       "        vertical-align: middle;\n",
       "    }\n",
       "\n",
       "    .dataframe tbody tr th {\n",
       "        vertical-align: top;\n",
       "    }\n",
       "\n",
       "    .dataframe thead th {\n",
       "        text-align: right;\n",
       "    }\n",
       "</style>\n",
       "<table border=\"1\" class=\"dataframe\">\n",
       "  <thead>\n",
       "    <tr style=\"text-align: right;\">\n",
       "      <th></th>\n",
       "      <th>MSE</th>\n",
       "      <th>RMSE</th>\n",
       "      <th>MAE</th>\n",
       "      <th>R2</th>\n",
       "    </tr>\n",
       "  </thead>\n",
       "  <tbody>\n",
       "    <tr>\n",
       "      <th>LR</th>\n",
       "      <td>0.541086</td>\n",
       "      <td>0.735585</td>\n",
       "      <td>0.567454</td>\n",
       "      <td>0.295195</td>\n",
       "    </tr>\n",
       "    <tr>\n",
       "      <th>DT2</th>\n",
       "      <td>0.59291</td>\n",
       "      <td>0.770007</td>\n",
       "      <td>0.607157</td>\n",
       "      <td>0.227689</td>\n",
       "    </tr>\n",
       "    <tr>\n",
       "      <th>DT5</th>\n",
       "      <td>0.541209</td>\n",
       "      <td>0.735669</td>\n",
       "      <td>0.578323</td>\n",
       "      <td>0.295034</td>\n",
       "    </tr>\n",
       "    <tr>\n",
       "      <th>DT10</th>\n",
       "      <td>0.549625</td>\n",
       "      <td>0.741367</td>\n",
       "      <td>0.545061</td>\n",
       "      <td>0.284072</td>\n",
       "    </tr>\n",
       "    <tr>\n",
       "      <th>DT</th>\n",
       "      <td>0.672308</td>\n",
       "      <td>0.819944</td>\n",
       "      <td>0.481538</td>\n",
       "      <td>0.124268</td>\n",
       "    </tr>\n",
       "    <tr>\n",
       "      <th>knn5</th>\n",
       "      <td>0.653477</td>\n",
       "      <td>0.808379</td>\n",
       "      <td>0.629641</td>\n",
       "      <td>0.148797</td>\n",
       "    </tr>\n",
       "    <tr>\n",
       "      <th>knn10</th>\n",
       "      <td>0.638077</td>\n",
       "      <td>0.798797</td>\n",
       "      <td>0.634615</td>\n",
       "      <td>0.168856</td>\n",
       "    </tr>\n",
       "    <tr>\n",
       "      <th>knn50</th>\n",
       "      <td>0.667938</td>\n",
       "      <td>0.817275</td>\n",
       "      <td>0.652379</td>\n",
       "      <td>0.12996</td>\n",
       "    </tr>\n",
       "    <tr>\n",
       "      <th>knn100</th>\n",
       "      <td>0.687156</td>\n",
       "      <td>0.828949</td>\n",
       "      <td>0.6648</td>\n",
       "      <td>0.104927</td>\n",
       "    </tr>\n",
       "    <tr>\n",
       "      <th>RF100.1</th>\n",
       "      <td>0.372824</td>\n",
       "      <td>0.610593</td>\n",
       "      <td>0.439303</td>\n",
       "      <td>0.514368</td>\n",
       "    </tr>\n",
       "    <tr>\n",
       "      <th>RF100.2</th>\n",
       "      <td>0.376458</td>\n",
       "      <td>0.613562</td>\n",
       "      <td>0.441513</td>\n",
       "      <td>0.509635</td>\n",
       "    </tr>\n",
       "    <tr>\n",
       "      <th>RF250.1</th>\n",
       "      <td>0.370048</td>\n",
       "      <td>0.608316</td>\n",
       "      <td>0.438277</td>\n",
       "      <td>0.517984</td>\n",
       "    </tr>\n",
       "    <tr>\n",
       "      <th>RF250.2</th>\n",
       "      <td>0.372787</td>\n",
       "      <td>0.610563</td>\n",
       "      <td>0.440646</td>\n",
       "      <td>0.514417</td>\n",
       "    </tr>\n",
       "    <tr>\n",
       "      <th>RF500.1</th>\n",
       "      <td>0.370437</td>\n",
       "      <td>0.608636</td>\n",
       "      <td>0.438159</td>\n",
       "      <td>0.517477</td>\n",
       "    </tr>\n",
       "    <tr>\n",
       "      <th>RF500.2</th>\n",
       "      <td>0.371343</td>\n",
       "      <td>0.609379</td>\n",
       "      <td>0.438851</td>\n",
       "      <td>0.516298</td>\n",
       "    </tr>\n",
       "    <tr>\n",
       "      <th>GBR.1.10.1</th>\n",
       "      <td>0.731498</td>\n",
       "      <td>0.855277</td>\n",
       "      <td>0.671425</td>\n",
       "      <td>0.047168</td>\n",
       "    </tr>\n",
       "    <tr>\n",
       "      <th>GBR.1.100</th>\n",
       "      <td>0.473422</td>\n",
       "      <td>0.688057</td>\n",
       "      <td>0.535265</td>\n",
       "      <td>0.383332</td>\n",
       "    </tr>\n",
       "    <tr>\n",
       "      <th>GBR.2.100</th>\n",
       "      <td>0.470037</td>\n",
       "      <td>0.685592</td>\n",
       "      <td>0.533076</td>\n",
       "      <td>0.387742</td>\n",
       "    </tr>\n",
       "    <tr>\n",
       "      <th>GBR.1.500</th>\n",
       "      <td>0.45888</td>\n",
       "      <td>0.677407</td>\n",
       "      <td>0.516785</td>\n",
       "      <td>0.402274</td>\n",
       "    </tr>\n",
       "    <tr>\n",
       "      <th>GBR.2.500</th>\n",
       "      <td>0.457572</td>\n",
       "      <td>0.676441</td>\n",
       "      <td>0.509477</td>\n",
       "      <td>0.403978</td>\n",
       "    </tr>\n",
       "  </tbody>\n",
       "</table>\n",
       "</div>"
      ],
      "text/plain": [
       "                 MSE      RMSE       MAE        R2\n",
       "LR          0.541086  0.735585  0.567454  0.295195\n",
       "DT2          0.59291  0.770007  0.607157  0.227689\n",
       "DT5         0.541209  0.735669  0.578323  0.295034\n",
       "DT10        0.549625  0.741367  0.545061  0.284072\n",
       "DT          0.672308  0.819944  0.481538  0.124268\n",
       "knn5        0.653477  0.808379  0.629641  0.148797\n",
       "knn10       0.638077  0.798797  0.634615  0.168856\n",
       "knn50       0.667938  0.817275  0.652379   0.12996\n",
       "knn100      0.687156  0.828949    0.6648  0.104927\n",
       "RF100.1     0.372824  0.610593  0.439303  0.514368\n",
       "RF100.2     0.376458  0.613562  0.441513  0.509635\n",
       "RF250.1     0.370048  0.608316  0.438277  0.517984\n",
       "RF250.2     0.372787  0.610563  0.440646  0.514417\n",
       "RF500.1     0.370437  0.608636  0.438159  0.517477\n",
       "RF500.2     0.371343  0.609379  0.438851  0.516298\n",
       "GBR.1.10.1  0.731498  0.855277  0.671425  0.047168\n",
       "GBR.1.100   0.473422  0.688057  0.535265  0.383332\n",
       "GBR.2.100   0.470037  0.685592  0.533076  0.387742\n",
       "GBR.1.500    0.45888  0.677407  0.516785  0.402274\n",
       "GBR.2.500   0.457572  0.676441  0.509477  0.403978"
      ]
     },
     "execution_count": 24,
     "metadata": {},
     "output_type": "execute_result"
    }
   ],
   "source": [
    "# podziel zbiór danych na trenujący i testowy\n",
    "X_train, X_test, y_train, y_test = train_test_split(X, y, test_size=0.3)\n",
    "\n",
    "# ocena regresorów\n",
    "best_r2_w2 = (\"brak\", 0)  # model o najwyższej jakości -- r2\n",
    "best_rmse_w2 = (\"brak\", 1)  # model o najwyższej dokładności pod względem RMSE\n",
    "\n",
    "# df oceny regresorów\n",
    "df_w2 = pd.DataFrame(data={}, index=index, columns=col)\n",
    "\n",
    "for reg_name in regressors:\n",
    "    reg = regressors[reg_name]\n",
    "\n",
    "    reg.fit(X_train, y_train)\n",
    "    y_pred = reg.predict(X_test)\n",
    "\n",
    "    MSE = mean_squared_error(y_test, y_pred)\n",
    "    RMSE = mean_squared_error(y_test, y_pred, squared=False)\n",
    "    MAE = mean_absolute_error(y_test, y_pred)\n",
    "    R2 = r2_score(y_test, y_pred)\n",
    "\n",
    "    # ocena jakości --- max r2\n",
    "    r2 = r2_score(y_test, y_pred)\n",
    "    if r2 > best_r2_w2[1]:\n",
    "      best_r2_w2 = (reg_name, r2)\n",
    "\n",
    "    # ocena dokładności --- min rmse\n",
    "    rmse = mean_squared_error(y_test, y_pred, squared=False)\n",
    "    if rmse < best_rmse_w2[1]:\n",
    "      best_rmse_w2 = (reg_name, rmse)\n",
    "    \n",
    "    # zawrzyj w df oceny regresorów\n",
    "    df_w2.loc[reg_name] = [MSE, RMSE, MAE, R2]\n",
    "\n",
    "df_w2"
   ]
  },
  {
   "cell_type": "code",
   "execution_count": 25,
   "id": "8738ecb3-6cd2-4628-ae9c-045cf7423578",
   "metadata": {
    "tags": []
   },
   "outputs": [
    {
     "name": "stdout",
     "output_type": "stream",
     "text": [
      "\n",
      "Najwyższa jakość:         RF250.1 \t r2 =  0.5179838038706283\n",
      "\n",
      "Ok. 51.8% zmienności jakości wina zostało wyjaśnione przez model.\n",
      "\n",
      "Najwyższa dokładność:     RF250.1 \t rmse =  0.6083161121552612\n",
      "\n",
      "Wartości przewidywane wahają się przeciętnie od wartości rzeczywistych o 0.61 punktu oceny.\n",
      "\n"
     ]
    },
    {
     "data": {
      "image/png": "[encoded data removed]",
      "text/plain": [
       "<Figure size 1600x600 with 1 Axes>"
      ]
     },
     "metadata": {},
     "output_type": "display_data"
    },
    {
     "data": {
      "image/png": "[encoded data removed]",
      "text/plain": [
       "<Figure size 1600x600 with 1 Axes>"
      ]
     },
     "metadata": {},
     "output_type": "display_data"
    }
   ],
   "source": [
    "# zmień index df na listę\n",
    "index_array_w2 = np.array(df_w2.index.tolist()) \n",
    "\n",
    "# wykres słupkowy wartości błędu RMSE dla regresorów\n",
    "plt.figure(figsize=(16,6))\n",
    "plt.bar(x = index_array_w2, height = 'RMSE', data = df_w2, align = 'center')\n",
    "plt.title('RMSE values of regressors')\n",
    "plt.gca().tick_params(axis='x', rotation=90)\n",
    "\n",
    "# wykres słupkowy wartości R2 dla regresorów\n",
    "plt.figure(figsize=(16,6))\n",
    "plt.bar(x = index_array_w2, height = 'R2', data = df_w2, align = 'center', color='orange')\n",
    "plt.title('R2-scores of classifiers')\n",
    "plt.gca().tick_params(axis='x', rotation=90)\n",
    "\n",
    "# wnioski\n",
    "print(\"\\nNajwyższa jakość:        \", best_r2_w2[0],    \"\\t r2 = \", best_r2_w2[1])\n",
    "print(\"\\nOk. {}% zmienności jakości wina zostało wyjaśnione przez model.\".format((best_r2_w2[1]*100).round(2)))\n",
    "print(\"\\nNajwyższa dokładność:    \", best_rmse_w2[0],  \"\\t rmse = \", best_rmse_w2[1])\n",
    "print(\"\\nWartości przewidywane wahają się przeciętnie od wartości rzeczywistych o {} punktu oceny.\\n\".format(best_rmse_w2[1].round(2)))"
   ]
  },
  {
   "cell_type": "code",
   "execution_count": 27,
   "id": "5b9d535a-af3c-4031-b808-eccece63f3bc",
   "metadata": {
    "tags": []
   },
   "outputs": [
    {
     "data": {
      "text/plain": [
       "array([5.472, 5.536])"
      ]
     },
     "execution_count": 27,
     "metadata": {},
     "output_type": "execute_result"
    }
   ],
   "source": [
    "best_reg_w2 = regressors[best_r2_w2[0]]\n",
    "\n",
    "best_reg_w2.fit(X,y)  # trenuj na wszystkim\n",
    "\n",
    "result = best_reg_w2.predict(new_data_w2)\n",
    "\n",
    "result  # podgląd"
   ]
  },
  {
   "cell_type": "markdown",
   "id": "fff97562-4ac7-49c0-bf36-b3425b6f940f",
   "metadata": {},
   "source": [
    "## <a name='3'></a>Wnioski"
   ]
  },
  {
   "cell_type": "markdown",
   "id": "50e435cb-8705-476c-81ed-b16c10814d2c",
   "metadata": {},
   "source": [
    "We wszystkich analizowanych wariantach grupa klasyfikatorów z *RandomForestRegressor* charakteryzowała się najniższym błędem RMSE i najwyższym wskaźnikiem R2, tym samym ocenia się ją jako najlepszą spośród analizowanych klasyfikatorów zarówno pod względem jakości jak i dokładności. Zmiana parametrów wewnętrznych nie wpływała istotnie na jakość wyniku."
   ]
  }
 ],
 "metadata": {
  "kernelspec": {
   "display_name": "Python 3 (ipykernel)",
   "language": "python",
   "name": "python3"
  },
  "language_info": {
   "codemirror_mode": {
    "name": "ipython",
    "version": 3
   },
   "file_extension": ".py",
   "mimetype": "text/x-python",
   "name": "python",
   "nbconvert_exporter": "python",
   "pygments_lexer": "ipython3",
   "version": "3.11.5"
  }
 },
 "nbformat": 4,
 "nbformat_minor": 5
}
